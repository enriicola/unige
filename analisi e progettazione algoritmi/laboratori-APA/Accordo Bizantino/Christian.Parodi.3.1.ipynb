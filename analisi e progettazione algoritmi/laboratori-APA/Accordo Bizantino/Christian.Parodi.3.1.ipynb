{
 "cells": [
  {
   "cell_type": "markdown",
   "metadata": {},
   "source": [
    "<img src=\"mc.jpg\" alt=\"mc\">"
   ]
  },
  {
   "cell_type": "markdown",
   "metadata": {},
   "source": [
    "***Ipotesi***\n",
    "ad ogni round, il risultato del lancio di una moneta globale con probabilita'\n",
    "$$Pr(testa) = Pr(croce) = \\frac{1}{2}$$\n",
    "e' comunicato a tutti i processi.\n",
    "\n",
    "- $n = 3t + 1$: pocessi totali\n",
    "- $t$: processi inaffidabili\n",
    "- $n - t = 2t + 1$: processi affidabili\n",
    "- $b(i) \\in \\{0, 1\\}$: valore del *bit* dell'$i$-esimo processo per $i = 1, ..., n$\n",
    "- $v$: valore su cui gli $n - t$ processi affidabili raggiungono il consenso \n",
    "\n",
    "\n",
    "***Consenso***  \n",
    "i bit dei processi affidabili assumono tutti lo stesso valore, ovvero, dopo un certo numero\n",
    "di round, se $i$ e un processo affidabile $b(i) = v$.  \n",
    "***Validita'***  \n",
    "Se il valore inziale di tutti i processi affidabili e lo stesso, e uguale a $v_0$, allora $v = v_0$\n",
    "(questa condizione impedisce la soluzione banale fissata a priori quale, per esempio, $v = 0$).\n",
    "\n",
    "Quindi, il consenso viene raggiunto se tutti gli $n - t$ processi affidabili hanno lo stesso valore"
   ]
  },
  {
   "cell_type": "code",
   "execution_count": 6,
   "metadata": {},
   "outputs": [],
   "source": [
    "import random\n",
    "import matplotlib.pyplot as plt\n",
    "import numpy as np\n",
    "\n",
    "def pretty_print(l):\n",
    "    print(\"[\")\n",
    "    for i in l:\n",
    "        print(\"\\t\" + str(i) + \",\")\n",
    "    print(\"]\")"
   ]
  },
  {
   "cell_type": "code",
   "execution_count": 7,
   "metadata": {},
   "outputs": [
    {
     "name": "stdout",
     "output_type": "stream",
     "text": [
      "matrice di partenza: \n",
      "[\n",
      "\t[1, 0, 0, 0],\n",
      "\t[0, 1, 0, 0],\n",
      "\t[0, 0, 0, 0],\n",
      "]\n"
     ]
    }
   ],
   "source": [
    "n = 4\n",
    "t = 1\n",
    "\n",
    "def init_gens():\n",
    "    # Gli unici split interessanti sono quelli 2:1\n",
    "    splits = [\n",
    "        [0, 0, 1],\n",
    "        [0, 1, 1],\n",
    "        [0, 1, 0],\n",
    "        [1, 0, 1],\n",
    "        [1, 0, 0],\n",
    "        [1, 1, 0]\n",
    "    ]\n",
    "\n",
    "    split_choice = random.choice(splits)\n",
    "\n",
    "    gens = [\n",
    "        [split_choice[0], 0, 0, 0],\n",
    "        [0, split_choice[1], 0, 0],\n",
    "        [0, 0, split_choice[2], 0],\n",
    "    ]\n",
    "\n",
    "    return gens\n",
    "\n",
    "gens = init_gens()\n",
    "print(\"matrice di partenza: \")\n",
    "pretty_print(gens)"
   ]
  },
  {
   "cell_type": "markdown",
   "metadata": {},
   "source": [
    "# `Algoritmo`\n",
    "\n",
    "l'algoritmo di tipo montecarlo e' il seguente:\n",
    "\n",
    "```py\n",
    "while not consenso:\n",
    "    per ogni processo i:\n",
    "        1. invia b(i) ad ogni altro processo\n",
    "        2. ricevi dagli altri processi\n",
    "        3. calcola maj(i)\n",
    "        4. calcola tally(i)\n",
    "        5. if tally >= 2*t + 1 = n - t:\n",
    "            b(i) = maj(i)\n",
    "           elif coin == testa:\n",
    "            b(i) = 1\n",
    "           else:\n",
    "            b(i) = 0\n",
    "```"
   ]
  },
  {
   "cell_type": "code",
   "execution_count": 8,
   "metadata": {},
   "outputs": [],
   "source": [
    "def consensus(gens):\n",
    "    value = gens[0][0]\n",
    "    for i in range(len(gens)):\n",
    "        if gens[i][i] != value:\n",
    "            return False\n",
    "    return True\n",
    "\n",
    "def maj_tally(gens, gen_row):\n",
    "    n_ones = gens[gen_row].count(1)\n",
    "    n_zeros = gens[gen_row].count(0)\n",
    "\n",
    "    maj = 1 if n_ones > n_zeros else 0\n",
    "    tally = n_ones if maj == 1 else n_zeros\n",
    "    \n",
    "    return maj, tally\n",
    "\n",
    "def round(gens):\n",
    "    coin = random.randint(0, 1)\n",
    "    # Invio dei messaggi\n",
    "    for i in range(len(gens)):\n",
    "        for j in range(len(gens)):\n",
    "            gens[i][j] = gens[j][j]\n",
    "        gens[i][3] = 1 - gens[i][i] # processo inaffidabile\n",
    "\n",
    "    for i in range(len(gens)):\n",
    "        maj, tally = maj_tally(gens, i)\n",
    "\n",
    "        if tally >= n - t:\n",
    "            gens[i][i] = maj\n",
    "        else:\n",
    "            gens[i][i] = coin\n"
   ]
  },
  {
   "cell_type": "code",
   "execution_count": 9,
   "metadata": {},
   "outputs": [],
   "source": [
    "\n",
    "n_rounds = 0\n",
    "rounds = []\n",
    "iters = 1024\n",
    "\n",
    "for _ in range(iters):\n",
    "    gens = init_gens()\n",
    "    n_rounds = 0\n",
    "    while not consensus(gens):\n",
    "        round(gens)\n",
    "        n_rounds += 1\n",
    "    rounds.append(n_rounds)"
   ]
  },
  {
   "cell_type": "code",
   "execution_count": 10,
   "metadata": {},
   "outputs": [
    {
     "name": "stdout",
     "output_type": "stream",
     "text": [
      "l' accordo e' stato raggiunto in 1 rounds per 508 volte\n",
      "l' accordo e' stato raggiunto in 2 rounds per 269 volte\n",
      "l' accordo e' stato raggiunto in 3 rounds per 115 volte\n",
      "l' accordo e' stato raggiunto in 4 rounds per 64 volte\n",
      "l' accordo e' stato raggiunto in 5 rounds per 34 volte\n",
      "l' accordo e' stato raggiunto in 6 rounds per 16 volte\n",
      "l' accordo e' stato raggiunto in 7 rounds per 13 volte\n",
      "l' accordo e' stato raggiunto in 8 rounds per 2 volte\n",
      "l' accordo e' stato raggiunto in 9 rounds per 2 volte\n",
      "l' accordo e' stato raggiunto in 10 rounds per 1 volte\n"
     ]
    },
    {
     "data": {
      "image/png": "[encoded data removed]",
      "text/plain": [
       "<Figure size 640x480 with 1 Axes>"
      ]
     },
     "metadata": {},
     "output_type": "display_data"
    }
   ],
   "source": [
    "plt.hist(rounds)\n",
    "\n",
    "for i in list(set(rounds)): # per togliere i duplicati\n",
    "    print(f\"l' accordo e' stato raggiunto in {i} rounds per {rounds.count(i)} volte\")"
   ]
  },
  {
   "cell_type": "markdown",
   "metadata": {},
   "source": [
    "La probabilita' di trovare il consenso al round $r$, con $r = 1,...,round$ e' circa $\\frac{R}{2^r}$ perche', in uno split 2 a 1, le valori possibili sono:\n",
    "- $[0, 0, 1]$  \n",
    "- $[0, 1, 1]$  \n",
    "- $[0, 1, 0]$  \n",
    "- $[1, 0, 1]$  \n",
    "- $[1, 1, 0]$\n",
    "\n",
    "In base ai possibili split, il consenso verra' ottenuto in un round diverso con diverse probabilta'. Per esempio, usando lo split $[1, 0, 0]$ nel caso di $n=4$ e $t=1$:\n",
    "\n",
    "al primo round non si entra mai nel caso in cui $tally(i) \\ge 2t + 1$, perche' e' sempre 2 (come in questo caso, $maj(i) = 0, tally(i) = 2$), pero' si potrebbe uscire al lancio della moneta, perche' su $[1, 0, 0]$, se uscisse $croce = 0$, allora si sarebbe raggiunto il consenso e quindi si terminerebbe con $v = 0$.\n",
    "\n",
    "In generale, al 4o round non ci si arriva quasi mai perche' si avrebbero abbastanza dati per trovare una decisione unanime. In ogni caso, la probabilita' di terminare con il consenso all'round $r$ e' $(\\frac{1}{2})^r = \\frac{1}{2^r}$ (questo perche' negli split 2 a 1 la moneta verrebbe lanciata $r$ volte con probabilita' $\\frac{1}{2}$ di raggiungere il consenso). Adesso non resta che calcolare casi favorevoli su casi possibili:\n",
    "$$\\frac{\\frac{1}{2^r}}{R} = \\frac{R}{2^r}$$"
   ]
  }
 ],
 "metadata": {
  "interpreter": {
   "hash": "8a94588eda9d64d9e9a351ab8144e55b1fabf5113b54e67dd26a8c27df0381b3"
  },
  "kernelspec": {
   "display_name": "Python 3.10.4 64-bit",
   "language": "python",
   "name": "python3"
  },
  "language_info": {
   "codemirror_mode": {
    "name": "ipython",
    "version": 3
   },
   "file_extension": ".py",
   "mimetype": "text/x-python",
   "name": "python",
   "nbconvert_exporter": "python",
   "pygments_lexer": "ipython3",
   "version": "3.10.6"
  },
  "orig_nbformat": 4
 },
 "nbformat": 4,
 "nbformat_minor": 2
}
