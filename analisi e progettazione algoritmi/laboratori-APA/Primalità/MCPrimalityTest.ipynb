{
 "cells": [
  {
   "attachments": {},
   "cell_type": "markdown",
   "metadata": {},
   "source": [
    "<center>\n",
    "\n",
    "# Test di primalità Miller-Rabin\n",
    "## APA a.a. 22/23\n",
    "### Enrico Pezzano (4825087) Eugenio Pallestrini (4878184)\n",
    "\n",
    "</center>\n",
    "\n",
    "<br>\n",
    "\n",
    "**Compostezza o primalità?**\n",
    "\n",
    "Il test di primalità di Miller-Rabin è un test probabilistico di tipo Monte Carlo, che può sbagliare se e solo se il numero in inpunt è composto e viene classificato come primo (vedremo che questo succederà con probabilità molto bassa, nell'ordine delle unità percentuali). In questo caso si dice che il test ha dato un falso positivo.\n",
    "In un certo senso il Miller-Rabin_PrimalityTest è l'opposto del test di Fermat: un altro test probabilistico, ma di tipo Las Vegas ed in fin dei conti possiamo considerare il test di Miller-Rabin come un test di Fermat \"potenziato\".\n",
    "Inoltre, siccome il test di Miller-Rabin è di tipo Monte Carlo, e siccome c'è il rischio del falso positivo, ma non del falso negativo, se il test dice che il numero è composto, allora è sicuramente composto: infatti si dice anche che il test Miller-Rabin sia in realtà un test di compostezza di $n$."
   ]
  },
  {
   "attachments": {},
   "cell_type": "markdown",
   "metadata": {},
   "source": []
  },
  {
   "attachments": {},
   "cell_type": "markdown",
   "metadata": {},
   "source": [
    "- Input: un numero intero positivo dispari e $\\ge 3$\n",
    "- Output: n \"composto\" o \"probabilmente primo\" (con probabilità di errore $\\le 1/4$)"
   ]
  },
  {
   "attachments": {},
   "cell_type": "markdown",
   "metadata": {},
   "source": [
    "<!-- ![alt text](https://ibb.co/x3XXfbM) -->"
   ]
  },
  {
   "attachments": {},
   "cell_type": "markdown",
   "metadata": {},
   "source": [
    "### L'algoritmo di tipo MonteCarlo in pseudo-codice e':\n",
    "```py\n",
    "1. s = 0\n",
    "2. q = n-1\n",
    "3. while (q pari)\n",
    "        s <- s+1\n",
    "        q <- q/2\n",
    "4. campiona a uniformemente a caso in {2,3,...,n-2} # n-2 è ovviamente un numero pari\n",
    "5. calcola x = a^q mod n\n",
    "6. if (x == 1 or x == n-1)\n",
    "        return n \"probabilmente primo\"\n",
    "7. while (s-1 > 0)\n",
    "        x <- x^2 mod n\n",
    "        if (x == -1 mod n)\n",
    "            return n \"probabilmente primo\"\n",
    "        s <- s-1\n",
    "8. return n \"composto\"\n",
    "```\n",
    "### Adesso, dopo aver implementato alcuni metodi ausiliari, Miller-Rabin in python diventa:"
   ]
  },
  {
   "cell_type": "code",
   "execution_count": 57,
   "metadata": {},
   "outputs": [
    {
     "name": "stdout",
     "output_type": "stream",
     "text": [
      "Note: you may need to restart the kernel to use updated packages.\n",
      "Note: you may need to restart the kernel to use updated packages.\n"
     ]
    }
   ],
   "source": [
    "%pip install numpy > /dev/null # redirect output to /dev/null to suppress output\n",
    "%pip install matplotlib > /dev/null"
   ]
  },
  {
   "cell_type": "code",
   "execution_count": 58,
   "metadata": {},
   "outputs": [],
   "source": [
    "def isPrime(n): # dumb brute force primality test\n",
    "    for i in range(2, n):\n",
    "        if n % i == 0:\n",
    "            return False\n",
    "    return True"
   ]
  },
  {
   "cell_type": "code",
   "execution_count": 59,
   "metadata": {},
   "outputs": [],
   "source": [
    "import random\n",
    "import decimal\n",
    "decimal.getcontext().prec = 1000\n",
    "\n",
    "liars = []\n",
    "witnesses = []\n",
    "\n",
    "#Miller-Rabin primality test\n",
    "def MCPrimalityTest(n):\n",
    "    liars.clear()\n",
    "    witnesses.clear()\n",
    "    \n",
    "    s = 0\n",
    "    q = n - 1\n",
    "    while q % 2 == 0:\n",
    "        s += 1\n",
    "        q = q/2\n",
    "\n",
    "    # Perform the Monte Carlo protocol\n",
    "    k = 20  # Number of iterations\n",
    "    for _ in range(k):\n",
    "        a = random.randint(2, n - 1) # random integer from 2 to n-2\n",
    "        x = pow(decimal.Decimal(a), decimal.Decimal(q), decimal.Decimal(n))\n",
    "        if x == 1 or x == -1: # Fermat's little theorem\n",
    "            if(not isPrime(n)):\n",
    "                liars.append(a)\n",
    "            return True #probably prime\n",
    "        while(s-1 >= 0):\n",
    "            x = decimal.Decimal(x)**decimal.Decimal(2) % decimal.Decimal(n)\n",
    "            if x == -1:\n",
    "                if(not isPrime(n)):\n",
    "                   liars.append(a)\n",
    "                return True\n",
    "            s -= 1\n",
    "\n",
    "        witnesses.append(a)\n",
    "        return False #composite"
   ]
  },
  {
   "cell_type": "code",
   "execution_count": 60,
   "metadata": {},
   "outputs": [],
   "source": [
    "def gcd(a, b): # Calculate the greatest common divisor using Euclidean algorithm\n",
    "    while b != 0:\n",
    "        a, b = b, a % b\n",
    "    return a\n",
    "\n",
    "def calculate_order(n):\n",
    "    order = 1\n",
    "    for a in range(1, n):\n",
    "        if gcd(a, n) == 1:\n",
    "            result = pow(a, order, n)\n",
    "            while result != 1:\n",
    "                result = (result * a) % n\n",
    "                order += 1\n",
    "                if order > n:\n",
    "                    return -1\n",
    "    return order"
   ]
  },
  {
   "attachments": {},
   "cell_type": "markdown",
   "metadata": {},
   "source": [
    "### Adesso testiamo l'algoritmo (calcolando anche l'ordine di $Z^*$ di n)"
   ]
  },
  {
   "cell_type": "code",
   "execution_count": 61,
   "metadata": {},
   "outputs": [
    {
     "name": "stdout",
     "output_type": "stream",
     "text": [
      "\n",
      "Testo... 999\n",
      "L'ordine di Z* di 999 è: 36\n",
      "999 composto\n",
      "I testimoni per 999 sono 1 ->  [793]\n",
      "\n",
      "Testo... 997\n",
      "L'ordine di Z* di 997 è: 996\n",
      "997 probabilmente primo\n",
      "997 è davvero primo? True\n",
      "I bugiardi per 997 sono 0 ->  []\n",
      "\n",
      "Testo... 973\n",
      "L'ordine di Z* di 973 è: 138\n",
      "973 composto\n",
      "I testimoni per 973 sono 1 ->  [676]\n",
      "\n",
      "Testo... 561\n",
      "L'ordine di Z* di 561 è: 80\n",
      "561 composto\n",
      "I testimoni per 561 sono 1 ->  [378]\n"
     ]
    }
   ],
   "source": [
    "# Testing the primary_test function\n",
    "def main():\n",
    "    n = [999, 997, 973, 561]\n",
    "    \n",
    "    for i in range(len(n)):\n",
    "        print(\"\\nTesto...\", n[i])\n",
    "        print(\"L'ordine di Z* di\", n[i], \"è:\", calculate_order(n[i]))\n",
    "        if MCPrimalityTest(n[i]):\n",
    "            print(n[i], \"probabilmente primo\")\n",
    "            print(n[i], \"è davvero primo?\", isPrime(n[i]))\n",
    "            print(f\"I bugiardi per {n[i]} sono {len(liars)} -> \", liars)\n",
    "        else:\n",
    "            print(n[i], \"composto\")\n",
    "            print(f\"I testimoni per {n[i]} sono {len(witnesses)} -> \", witnesses)\n",
    "main()"
   ]
  },
  {
   "attachments": {},
   "cell_type": "markdown",
   "metadata": {},
   "source": [
    "# Cosa succede se eseguiamo il test 100000 volte?\n",
    "Cerchiamo eventuali bugiardi (che danno un falso positivo) e veri (che danno un falso negativo); in più verifichiamo che la frazione di testimoni è maggiore del $50$%."
   ]
  },
  {
   "cell_type": "code",
   "execution_count": 62,
   "metadata": {},
   "outputs": [
    {
     "name": "stdout",
     "output_type": "stream",
     "text": [
      "\n",
      " 999  is probably prime  0  times out of 100000 runs, with probability of  0.0\n",
      "I bugiardi per 999 sono 0 -> []\n",
      "I testimoni per 999 sono 100000\n",
      "\n",
      " 997  is probably prime  25296  times out of 100000 runs, with probability of  0.25296\n",
      "I bugiardi per 997 sono 0 -> []\n",
      "I testimoni per 997 sono 74704\n",
      "\n",
      " 973  is probably prime  847  times out of 100000 runs, with probability of  0.00847\n",
      "I bugiardi per 973 sono 8 -> [737, 513, 835, 235, 652, 876, 557, 459]\n",
      "I testimoni per 973 sono 99153\n",
      "\n",
      " 561  is probably prime  736  times out of 100000 runs, with probability of  0.00736\n",
      "I bugiardi per 561 sono 4 -> [256, 460, 103, 511]\n",
      "I testimoni per 561 sono 99264\n"
     ]
    },
    {
     "data": {
      "image/png": "[encoded data removed]",
      "text/plain": [
       "<Figure size 640x480 with 1 Axes>"
      ]
     },
     "metadata": {},
     "output_type": "display_data"
    }
   ],
   "source": [
    "import matplotlib.pyplot as plt\n",
    "\n",
    "def plotResults():\n",
    "    global liars\n",
    "    global witnesses\n",
    "    bugiardi = [[],[],[],[]]\n",
    "    count_witnesses = [0,0,0,0]\n",
    "\n",
    "    n = [999, 997, 973, 561]\n",
    "    results = [0,0,0, 0]\n",
    "    run = 100000\n",
    "\n",
    "    for r in range(run):\n",
    "        for i in range(len(n)):\n",
    "            if MCPrimalityTest(n[i]): # if probably prime\n",
    "                results[i] += 1 # count the number of times n[i] is probably prime\n",
    "                if len(liars) > 0:\n",
    "                    bugiardi[i].append(liars[-1]) # append only the last liar every time\n",
    "                # else:\n",
    "                    # bugiardi[i] = None\n",
    "            else: # if composite\n",
    "                count_witnesses[i] += 1 # count the number of witnesses per n[i]\n",
    "\n",
    "    for i in range(len(n)):\n",
    "        bugiardi[i] = list(set(bugiardi[i])) # remove duplicates for each n[i]\n",
    "    \n",
    "    for i in range(len(n)):\n",
    "        print(\"\\n\", n[i], \" is probably prime \", results[i], \" times out of\", r+1, \"runs, with probability of \", results[i]/(r+1))\n",
    "        print(f\"I bugiardi per {n[i]} sono {len(bugiardi[i]) if bugiardi[i]!=None else '0'} ->\", bugiardi[i])\n",
    "        print(f\"I testimoni per {n[i]} sono {count_witnesses[i]}\")\n",
    "    \n",
    "    plt.bar([n[0],n[1],n[2],n[3]], results, width=10)\n",
    "    plt.xlabel('n per i=0,1,2,3')\n",
    "    plt.ylabel('Number of times n is probably prime')\n",
    "    plt.xlim(550, 1000)\n",
    "    plt.show()\n",
    "                \n",
    "plotResults()"
   ]
  },
  {
   "attachments": {},
   "cell_type": "markdown",
   "metadata": {},
   "source": [
    "# Conclusioni\n",
    "- Nel caso di $999$ (n1) l'algoritmo ha funzionato come previsto, infatti $999$ è composto e il test ha dato \"composto\" con certezza assoluta (0 volte su 100000 esecuzioni).\n",
    "- Nel caso di $997$ (n2) l'algoritmo ha funzionato come previsto, infatti $997$ è primo e il test ha dato \"probabilmente primo\" con una probabilità del $25$ % (notiamo che se cambiamo l'ordine di grandezza delle $run$, la percentuale non cambia).\n",
    "- Nel caso di $973$ (n3) l'algoritmo ha funzionato come previsto, infatti $973$ è composto e il test ha dato \"composto\" quasi con certezza assoluta con probabilità $>99$ % (come si può osservare dal grafico).\n",
    "- Nel caso di $561$ (n4) l'algoritmo ha funzionato come previsto, infatti $561$ è composto e il test ha dato \"composto\" quasi con certezza assoluta con probabilità $>99$ % (come si può osservare dal grafico).\n",
    "\n",
    "Osserviamo che $561$ è un numero di Carmichael (il primo per la precisione), ovvero un numero composto che soddisfa la congruenza di Fermat per ogni $a$ coprimo con $561$ (ovvero $a^{561-1} \\equiv 1 \\mod 561$). Per molti anni si è pensato che i numeri di Carmichael fossero rari, ma nel 1994 Alford, Granville e Pomerance hanno dimostrato che i numeri di Carmichael sono comunque rari, ma infiniti. Inoltre, per molti test di primalità, i numeri di Carmichael sono i peggiori casi possibili o comunque difficili da gestire; questo non accade per MCPrimalityTest, che è un test di compostezza e non di primalità.\n",
    "\n",
    "Infine constatiamo che la frazione dei testimoni è sempre maggiore del $50$ %, come richiesto dal compito; infatti è sempre intorno al $75$ % (notiamo di nuovo che se cambiamo l'ordine di grandezza delle $run$, la percentuale non cambia).\n",
    "\n"
   ]
  }
 ],
 "metadata": {
  "kernelspec": {
   "display_name": "Python 3",
   "language": "python",
   "name": "python3"
  },
  "language_info": {
   "codemirror_mode": {
    "name": "ipython",
    "version": 3
   },
   "file_extension": ".py",
   "mimetype": "text/x-python",
   "name": "python",
   "nbconvert_exporter": "python",
   "pygments_lexer": "ipython3",
   "version": "3.10.11"
  },
  "orig_nbformat": 4
 },
 "nbformat": 4,
 "nbformat_minor": 2
}
