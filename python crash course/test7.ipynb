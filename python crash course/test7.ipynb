{
 "cells": [
  {
   "cell_type": "code",
   "execution_count": 1,
   "metadata": {},
   "outputs": [
    {
     "name": "stdout",
     "output_type": "stream",
     "text": [
      "[2, 9, 1, 4, 1, 7, 7, 7, 6, 3]\n",
      "1\n"
     ]
    }
   ],
   "source": [
    "import random\n",
    "import heapq\n",
    "\n",
    "# s, n, m, w = [int(x) for x in input().split()]\n",
    "s = 1\n",
    "n = 10\n",
    "m = 10\n",
    "w = 9\n",
    "\n",
    "# set the random generator's seed\n",
    "random.seed(s)\n",
    "source = []\n",
    "heap = []\n",
    "\n",
    "# this will generate our n random values; modify as required\n",
    "for _ in range(n):\n",
    "    value = random.randrange(m)\n",
    "    source.append(value)\n",
    "\n",
    "print(source)\n",
    "\n",
    "\n",
    "for i in range(n):\n",
    "    if(i < w):\n",
    "        heapq.heappush(heap, source[i])\n",
    "    else:\n",
    "        heapq.heappushpop(heap, source[i])\n",
    "\n",
    "print(heap[0])"
   ]
  }
 ],
 "metadata": {
  "kernelspec": {
   "display_name": "Python 3",
   "language": "python",
   "name": "python3"
  },
  "language_info": {
   "codemirror_mode": {
    "name": "ipython",
    "version": 3
   },
   "file_extension": ".py",
   "mimetype": "text/x-python",
   "name": "python",
   "nbconvert_exporter": "python",
   "pygments_lexer": "ipython3",
   "version": "3.10.11"
  },
  "orig_nbformat": 4
 },
 "nbformat": 4,
 "nbformat_minor": 2
}
