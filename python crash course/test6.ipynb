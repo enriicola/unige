{
 "cells": [
  {
   "cell_type": "code",
   "execution_count": 11,
   "metadata": {},
   "outputs": [
    {
     "name": "stdout",
     "output_type": "stream",
     "text": [
      "[2, 9, 1, 4, 1, 7, 7, 7, 6, 3]\n",
      "[1, 1, 2, 3, 4, 6, 7, 7, 7, 9]\n",
      "pivot:  9\n",
      "left:  [2, 1, 4, 1, 7, 7, 7, 6, 3]\n",
      "mid:  [9]\n",
      "right:  []\n",
      "pivot:  6\n",
      "left:  [2, 1, 4, 1, 3]\n",
      "mid:  [6]\n",
      "right:  [7, 7, 7]\n",
      "6\n"
     ]
    }
   ],
   "source": [
    "import random\n",
    "# s, n, m, k = [int(x) for x in input().split()]\n",
    "s = 1\n",
    "n = 10\n",
    "m = 10\n",
    "k = 5\n",
    "random.seed(s)\n",
    "source = []\n",
    "for _ in range(n):\n",
    "    value = random.randrange(m)\n",
    "    source.append(value)\n",
    "print(source)\n",
    "\n",
    "def Quicksort(array):\n",
    "    if len(array) < 2:\n",
    "        return array\n",
    "    else:\n",
    "        pivot = array[0]\n",
    "        less = [x for x in array[1:] if x <= pivot]\n",
    "        greater = [x for x in array[1:] if x > pivot]\n",
    "        return Quicksort(less) + [pivot] + Quicksort(greater)\n",
    "\n",
    "def quickselect(array, k):\n",
    "    pivot = random.choice(array)\n",
    "    print(\"pivot: \", pivot)\n",
    "    left = [x for x in array if x < pivot]\n",
    "    print(\"left: \", left)\n",
    "    mid = [x for x in array if x == pivot]\n",
    "    print(\"mid: \", mid)\n",
    "    right = [x for x in array if x > pivot]\n",
    "    print(\"right: \", right)\n",
    "    t = len(left) + len(mid)\n",
    "\n",
    "    if(len(left) > k):\n",
    "        return quickselect(left, k)\n",
    "    elif(t < k):\n",
    "        return quickselect(right, k - t)\n",
    "    else:\n",
    "        return pivot\n",
    "\n",
    "print(Quicksort(source))\n",
    "print(quickselect(source, k))"
   ]
  }
 ],
 "metadata": {
  "kernelspec": {
   "display_name": "Python 3",
   "language": "python",
   "name": "python3"
  },
  "language_info": {
   "codemirror_mode": {
    "name": "ipython",
    "version": 3
   },
   "file_extension": ".py",
   "mimetype": "text/x-python",
   "name": "python",
   "nbconvert_exporter": "python",
   "pygments_lexer": "ipython3",
   "version": "3.10.11"
  },
  "orig_nbformat": 4
 },
 "nbformat": 4,
 "nbformat_minor": 2
}
