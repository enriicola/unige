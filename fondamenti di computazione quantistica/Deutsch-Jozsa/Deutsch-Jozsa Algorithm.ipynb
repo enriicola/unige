{
 "cells": [
  {
   "attachments": {},
   "cell_type": "markdown",
   "metadata": {},
   "source": [
    "<center>\n",
    "\n",
    "# Home Assignment 2: DJA 🔭\n",
    "\n",
    "## Deutsch-Jozsa Algorithm\n",
    "\n",
    "### Enrico Pezzano 4825087\n",
    "\n",
    "</center>\n",
    "\n",
    "<br>\n",
    "\n",
    "**Introduzione**  \n",
    "Il DJA è la versione estesa dell'algoritmo di Deutsch, entrambi sono algoritmi quantistici che permettono di determinare se una funzione è costante o bilanciata.\n",
    "Una funzione si definisce costante se restituisce sempre lo stesso valore (a prescindere dall'input) mentre è bilanciata se restituisce lo stesso numero di 0 e 1.\n",
    "L'algoritmo di Deutsch semplice si limita a funzioni che restituiscono 0 o 1, quindi un bit soltanto, mentre il Deutsch-Joza è in grado di gestire funzioni che restituiscono un numero arbitrario di bit; in questo caso, come richiesto dall'home assignment, ho implementato l'algoritmo per funzioni che ricevono 2 bit e ne restituiscono uno solo.\n",
    "\n",
    "<br>\n",
    "\n",
    "**Pseudo codice:** 🧠  \n",
    "Dato $n = 2$\n",
    "- Passo 1. Inizializza i qubit a 0 creando un circuito quantistico di n qubit.\n",
    "- Passo 2. Applica la porta di Hadamard ad ogni qubit.\n",
    "- Passo 3. Applica il circuito oracolo.\n",
    "- Passo 4. Ripeti il passo 2.\n",
    "- Passo 5. Misura ogni qubit, aggiungendone i risultati ad una lista. Se la lista contiene tutti 0, allora la funzione è costante. Altrimenti, è una funzione bilanciata.\n",
    "\n",
    "<br>\n",
    "\n",
    "**Implementazione in Python:** 🐍  \n",
    "Innanzitutto, installo le librerie necessarie:"
   ]
  },
  {
   "cell_type": "code",
   "execution_count": 281,
   "metadata": {},
   "outputs": [],
   "source": [
    "! pip install matplotlib > /dev/null # redirect output to /dev/null to avoid installation messages\n",
    "! pip install qiskit > /dev/null"
   ]
  },
  {
   "attachments": {},
   "cell_type": "markdown",
   "metadata": {},
   "source": [
    "Successivamente, le importo: 📚"
   ]
  },
  {
   "cell_type": "code",
   "execution_count": 282,
   "metadata": {},
   "outputs": [],
   "source": [
    "from qiskit import QuantumCircuit, execute, IBMQ\n",
    "from qiskit.visualization import plot_histogram\n",
    "from qiskit.providers.jobstatus import JobStatus"
   ]
  },
  {
   "attachments": {},
   "cell_type": "markdown",
   "metadata": {},
   "source": [
    "<br>\n",
    "\n",
    "### Alcune funzioni di definizione ≝\n",
    "Ho implementato alcune funzioni per dimostrare come funzionano la porta CNOT ed una sua versione semplificata, una definizione pseudo formale ed un controllo (lapalissiano) per verificare che la funzione sia veramente bilanciata.  \n",
    "\n",
    "<br>\n",
    "\n",
    "**Funzione bilanciata** ⚖️  \n",
    "In particolare, ritorna true se i due bit in input sono diversi, false altrimenti: lo stesso comportamento dello XOR.\n",
    "Infatti se ricevo in input 00, ritorna 1, se ricevo 01 o 10 ritorna 0, se ricevo 11 ritorna 1...  \n",
    "$$00 \\to 1$$\n",
    "$$01 \\to 0$$\n",
    "$$10 \\to 0$$\n",
    "$$11 \\to 1$$\n",
    "\n",
    "```py\n",
    "if x == '00' or x == '11':\n",
    "        return False\n",
    "    else:\n",
    "        return True\n",
    "```\n",
    "<br>\n",
    "<br>\n",
    "<br>\n",
    "Invece il metodo CNOT vero e proprio è una porta logica che prende in input due qubit, il primo è di controllo, il secondo è il target: flippa il qubit target se e solo se il qubit di controllo è 1. Rappresentato tramite una matrice diventa:\n",
    "<center>\n",
    "\n",
    "|||||\n",
    "|---|---|---|---|\n",
    "| 1 | 0 | 0 | 0 |\n",
    "| 0 | 1 | 0 | 0 |\n",
    "| 0 | 0 | 0 | 1 |\n",
    "| 0 | 0 | 1 | 0 |\n",
    "\n",
    "</center>  \n",
    "\n",
    "<br>\n",
    "<br>\n",
    "\n",
    "Di seguito la versione in Python: 🐍  "
   ]
  },
  {
   "cell_type": "code",
   "execution_count": 283,
   "metadata": {},
   "outputs": [],
   "source": [
    "# same function as above, but refactored\n",
    "def balanced_function(x):\n",
    "    return x=='01' or x=='10'"
   ]
  },
  {
   "attachments": {},
   "cell_type": "markdown",
   "metadata": {},
   "source": [
    "<br>\n",
    "\n",
    "**my_cnot** 🚫  \n",
    "La funzione che definisce come funziona la porta CNOT su un circuito \"quantum_circuit\" (una formalità, siccome è già implementata in Qiskit):"
   ]
  },
  {
   "cell_type": "code",
   "execution_count": 284,
   "metadata": {},
   "outputs": [],
   "source": [
    "# pseudo formal definition of the cnot gate\n",
    "quantum_circuit = QuantumCircuit(2, 2)\n",
    "def my_cnot(control, target):\n",
    "    if control == 1:\n",
    "        quantum_circuit.x(target) # negation, flip the bit"
   ]
  },
  {
   "attachments": {},
   "cell_type": "markdown",
   "metadata": {},
   "source": [
    "<br>\n",
    "\n",
    "**È davvero bilanciata?** 🤔  \n",
    "La funzione che controllo se la funzione è bilanciata o meno per davvero (come detto prima, è lapalissiano, la definizione è solo per completezza):"
   ]
  },
  {
   "cell_type": "code",
   "execution_count": 285,
   "metadata": {},
   "outputs": [],
   "source": [
    "def is_balanced(f):\n",
    "    countT = 0\n",
    "    countF = 0\n",
    "    for x in ['00', '01', '10', '11']:\n",
    "        if f(x):\n",
    "            countF += 1\n",
    "        else:\n",
    "            countT += 1\n",
    "    return countT == countF"
   ]
  },
  {
   "attachments": {},
   "cell_type": "markdown",
   "metadata": {},
   "source": [
    "<br>\n",
    "\n",
    "**E finalmente...** 🧑🏻‍💻  \n",
    "...il codice che implementa l'algoritmo di Deutsch-Joza, seguendo lo pseudo codice riportato sopra. Prima di tutto, mi collego al backend di IBMQ per eseguire il circuito su un vero computer quantistico.  \n",
    "Inizio creando un circuito quantistico di 2 qubit, inizializzandoli a 0 e applicando la porta di Hadamard ad entrambi.  \n",
    "Aggiungo una barriera per separare i vari passaggi e disegnare ad ogni blocco di codice il circuito così come è stato eseguito fino a quel momento:"
   ]
  },
  {
   "cell_type": "code",
   "execution_count": null,
   "metadata": {},
   "outputs": [],
   "source": [
    "# Load your IBM Quantum account\n",
    "token = 'ccc1b9140df0575ac96fc17c4c938a7ca6259ff6a0b856ad1c8514c6c4802fb5643c2b1918f5e65a7440613d639ea2532d7d5ad073cfc9d3914d0336f98d3aa4'\n",
    "IBMQ.save_account(token, overwrite=True)\n",
    "IBMQ.load_account()\n",
    "\n",
    "# Get the provider and choose a backend\n",
    "provider = IBMQ.get_provider(hub='ibm-q')\n",
    "backend = provider.get_backend('ibmq_qasm_simulator')\n",
    "\n",
    "# Create a quantum circuit with two qubits and two classical bits\n",
    "qc = QuantumCircuit(2, 2)\n",
    "\n",
    "# Apply Hadamard gate to both qubits\n",
    "qc.h(0)\n",
    "qc.h(1)\n",
    "qc.barrier()\n",
    "qc.draw()"
   ]
  },
  {
   "cell_type": "code",
   "execution_count": 287,
   "metadata": {},
   "outputs": [
    {
     "data": {
      "text/html": [
       "<pre style=\"word-wrap: normal;white-space: pre;background: #fff0;line-height: 1.1;font-family: &quot;Courier New&quot;,Courier,monospace\">     ┌───┐ ░ ┌───┐ ░ \n",
       "q_0: ┤ H ├─░─┤ X ├─░─\n",
       "     ├───┤ ░ └─┬─┘ ░ \n",
       "q_1: ┤ H ├─░───■───░─\n",
       "     └───┘ ░       ░ \n",
       "c: 2/════════════════\n",
       "                     </pre>"
      ],
      "text/plain": [
       "     ┌───┐ ░ ┌───┐ ░ \n",
       "q_0: ┤ H ├─░─┤ X ├─░─\n",
       "     ├───┤ ░ └─┬─┘ ░ \n",
       "q_1: ┤ H ├─░───■───░─\n",
       "     └───┘ ░       ░ \n",
       "c: 2/════════════════\n",
       "                     "
      ]
     },
     "execution_count": 287,
     "metadata": {},
     "output_type": "execute_result"
    }
   ],
   "source": [
    "# Apply the balanced function as an oracle\n",
    "qc.cx(1, 0) # same as my_cnot(1, 0) or cnot(1, 0) :)\n",
    "qc.barrier()\n",
    "qc.draw()"
   ]
  },
  {
   "cell_type": "code",
   "execution_count": 288,
   "metadata": {},
   "outputs": [
    {
     "data": {
      "text/html": [
       "<pre style=\"word-wrap: normal;white-space: pre;background: #fff0;line-height: 1.1;font-family: &quot;Courier New&quot;,Courier,monospace\">     ┌───┐ ░ ┌───┐ ░ ┌───┐ ░ \n",
       "q_0: ┤ H ├─░─┤ X ├─░─┤ H ├─░─\n",
       "     ├───┤ ░ └─┬─┘ ░ └───┘ ░ \n",
       "q_1: ┤ H ├─░───■───░───────░─\n",
       "     └───┘ ░       ░       ░ \n",
       "c: 2/════════════════════════\n",
       "                             </pre>"
      ],
      "text/plain": [
       "     ┌───┐ ░ ┌───┐ ░ ┌───┐ ░ \n",
       "q_0: ┤ H ├─░─┤ X ├─░─┤ H ├─░─\n",
       "     ├───┤ ░ └─┬─┘ ░ └───┘ ░ \n",
       "q_1: ┤ H ├─░───■───░───────░─\n",
       "     └───┘ ░       ░       ░ \n",
       "c: 2/════════════════════════\n",
       "                             "
      ]
     },
     "execution_count": 288,
     "metadata": {},
     "output_type": "execute_result"
    }
   ],
   "source": [
    "# Apply Hadamard gate to the first qubit\n",
    "qc.h(0)\n",
    "qc.barrier()\n",
    "qc.draw()"
   ]
  },
  {
   "cell_type": "code",
   "execution_count": 289,
   "metadata": {},
   "outputs": [
    {
     "data": {
      "text/html": [
       "<pre style=\"word-wrap: normal;white-space: pre;background: #fff0;line-height: 1.1;font-family: &quot;Courier New&quot;,Courier,monospace\">        ┌───┐ ░ ┌───┐ ░ ┌───┐ ░  ░ ┌─┐   \n",
       "   q_0: ┤ H ├─░─┤ X ├─░─┤ H ├─░──░─┤M├───\n",
       "        ├───┤ ░ └─┬─┘ ░ └───┘ ░  ░ └╥┘┌─┐\n",
       "   q_1: ┤ H ├─░───■───░───────░──░──╫─┤M├\n",
       "        └───┘ ░       ░       ░  ░  ║ └╥┘\n",
       "   c: 2/════════════════════════════╬══╬═\n",
       "                                    ║  ║ \n",
       "meas: 2/════════════════════════════╩══╩═\n",
       "                                    0  1 </pre>"
      ],
      "text/plain": [
       "        ┌───┐ ░ ┌───┐ ░ ┌───┐ ░  ░ ┌─┐   \n",
       "   q_0: ┤ H ├─░─┤ X ├─░─┤ H ├─░──░─┤M├───\n",
       "        ├───┤ ░ └─┬─┘ ░ └───┘ ░  ░ └╥┘┌─┐\n",
       "   q_1: ┤ H ├─░───■───░───────░──░──╫─┤M├\n",
       "        └───┘ ░       ░       ░  ░  ║ └╥┘\n",
       "   c: 2/════════════════════════════╬══╬═\n",
       "                                    ║  ║ \n",
       "meas: 2/════════════════════════════╩══╩═\n",
       "                                    0  1 "
      ]
     },
     "execution_count": 289,
     "metadata": {},
     "output_type": "execute_result"
    }
   ],
   "source": [
    "# Measure all the qubits\n",
    "qc.measure_all()\n",
    "qc.draw()"
   ]
  },
  {
   "attachments": {},
   "cell_type": "markdown",
   "metadata": {},
   "source": [
    "<br>\n",
    "\n",
    "**E i risultati?** 📊  \n",
    "Tramite i metodi di Qiskit, ho eseguito il circuito 4000 volte (numero di default, si può eseguire un numero arbitrario di volte tramite il parametro \"shots\") e raccolto i dati tramite apposite variabili, in modo da avere un numero di risultati interessante su cui fare delle statistiche:"
   ]
  },
  {
   "cell_type": "code",
   "execution_count": 290,
   "metadata": {},
   "outputs": [],
   "source": [
    "# Submit the job to the backend\n",
    "job = execute(qc, backend)\n",
    "\n",
    "# Get the job result\n",
    "result = job.result()\n",
    "counts = result.get_counts()"
   ]
  },
  {
   "attachments": {},
   "cell_type": "markdown",
   "metadata": {},
   "source": [
    "<br>\n",
    "\n",
    "**Bilanciata o costante?** 🤔  \n",
    "Come detto prima, se la funzione è constante, allora il risultato sarà sempre 0, altrimenti sarà 1 e di conseguenza la funzione sarà bilanciata.  \n",
    "Eseguo anche un \"controllo\" con la mia funzione \"è bilanciata?\", evidendemente superfluo: "
   ]
  },
  {
   "cell_type": "code",
   "execution_count": 291,
   "metadata": {},
   "outputs": [
    {
     "name": "stdout",
     "output_type": "stream",
     "text": [
      "The function is balanced.\n",
      "Is it really? True\n"
     ]
    }
   ],
   "source": [
    "if '0' in counts:\n",
    "    print(\"The function is constant.\")\n",
    "else:\n",
    "    print(\"The function is balanced.\")\n",
    "    print(\"Is it really?\", is_balanced(balanced_function))"
   ]
  },
  {
   "attachments": {},
   "cell_type": "markdown",
   "metadata": {},
   "source": [
    "<br>\n",
    "\n",
    "**Visual proof** 👀  \n",
    "Infine, per avere una prova visiva che del bilanciamento della funzione, ho disegnato il circuito con i risultati ottenuti:"
   ]
  },
  {
   "cell_type": "code",
   "execution_count": 292,
   "metadata": {},
   "outputs": [
    {
     "data": {
      "text/plain": [
       "{'00 00': 1993, '10 00': 2007}"
      ]
     },
     "metadata": {},
     "output_type": "display_data"
    },
    {
     "data": {
      "image/png": "[encoded data removed]",
      "text/plain": [
       "<Figure size 700x500 with 1 Axes>"
      ]
     },
     "execution_count": 292,
     "metadata": {},
     "output_type": "execute_result"
    }
   ],
   "source": [
    "# if job.status() == JobStatus.DONE: # \"debugging\"\n",
    "#     plot_histogram(counts)\n",
    "\n",
    "display(counts)\n",
    "plot_histogram(counts)"
   ]
  },
  {
   "attachments": {},
   "cell_type": "markdown",
   "metadata": {},
   "source": [
    "<br>\n",
    "\n",
    "**L'oracolo** 🧙🏻‍♂️  \n",
    "In questo laboratorio, l'oracolo (un circuito quantistico o una subroutine che fornisce informazioni su uno specifico problema o funzione che viene risolta: in questo caso, la porta CNOT) è stata applicata due volte, una per ogni qubit, ma il risultato è lo stesso, come aspettato: la funzione è bilanciata.  \n",
    "\n",
    "# Conclusioni 📝\n",
    "I risultati sono stati ottenuti da un computer quantistico vero e proprio, grazie ai metodi forniti da Qiskit ed al relativo account studenti IBM. Noto che i tempi di attesa sono stati molto brevi, nell'ordine di un minuto, e che i risultati sono stati ottenuti in modo molto preciso, con un margine di errore di circa 0.5% (senza margine avrei avuto una distribuzione di 2000 per colonna dell'istogramma). Invece, eseguendo il circuito su un simulatore, i tempi di attesa sono stati ancora più brevi, non più di un secondo, ma i risultati sono stati ottenuti in modo meno preciso, con un margine di errore di circa 5% (il codice sarebbe circa lo stesso, la differenza è che non c'è bisogno di collegarsi all'account IBMQ, ma si esegue tutto in locale, _hence why_ l'attesa pressochè inesistente). Aggiungo inoltre che provando altri home assignment direttamente sulla piattaforma cloud di IBMQ, i tempi di attesa sono stati molto più lunghi, circa 10 minuti (a volte nell'ordine delle ore).\n",
    "\n",
    "\n",
    "Deutsch-Joza è l'algoritmo quantistico più semplice che ci sia (secondo solo alla sua prima versione, solo con Deutsch), ma è anche il più importante, in quanto è la base per tutti gli altri algoritmi quantistici. Grazie a lui sono evidenti i vantaggi della computazione quantistica rispetto a quella classica: \n",
    "- _parallelismo_: infatti, con un solo passaggio, siamo in grado di determinare se una funzione è bilanciata o costante, mentre in computazione classica, per lo stesso risultato, ci vorrebbe almeno un passaggio per ogni qubit;\n",
    "- _interferenza_: la possibilità di interferenza tra i qubit permette di ottenere risultati che in computazione classica sarebbero impossibili da ottenere, come ad esempio la possibilità di ottenere un risultato bilanciato con una funzione che restituisce sempre 0 o sempre 1.\n",
    "\n",
    "\n",
    "Nonostante la semplicità dell'algoritmo e la relativa mancanza di interesse applicativo vero e proprio, il vantaggio complessivo è esponenziale!  \n",
    "\n",
    "# Bibliografia 📚\n",
    "- [Qiskit](https://qiskit.org/)\n",
    "- [IBM Quantum Experience](https://quantum-computing.ibm.com/)\n",
    "- [Deutsch-Joza algorithm](https://en.wikipedia.org/wiki/Deutsch%E2%80%93Jozsa_algorithm)\n",
    "- [Deutsch-Joza algorithm (IBM)](https://qiskit.org/textbook/ch-algorithms/deutsch-jozsa.html)\n",
    "- [Oracle machine](https://en.wikipedia.org/wiki/Oracle_machine)\n",
    "- [Deutsch-Joza algorithm (IBM)](https://qiskit.org/textbook/ch-algorithms/deutsch-jozsa.html)\n",
    "- [QuantumCircuit](https://qiskit.org/documentation/stubs/qiskit.circuit.QuantumCircuit.html)\n",
    "- [.draw()](https://qiskit.org/documentation/stubs/qiskit.circuit.QuantumCircuit.draw.html)\n",
    "- [.h()](https://qiskit.org/documentation/stubs/qiskit.circuit.QuantumCircuit.h.html)\n",
    "- [.measure()](https://qiskit.org/documentation/stubs/qiskit.circuit.QuantumCircuit.measure.html)\n",
    "- [.execute()](https://qiskit.org/documentation/stubs/qiskit.execute.html)\n",
    "- [plot_histogram](https://qiskit.org/documentation/stubs/qiskit.visualization.plot_histogram.html)\n",
    "- [IBMQ](https://www.ibm.com/docs/en/ibm-mq/9.1?topic=SSFKSJ_9.1.0/com.ibm.mq.helphome.v91.doc/WelcomePagev9r1.html)\n",
    "- [IBMQBackend]( https://qiskit.org/documentation/stubs/qiskit.providers.ibmq.IBMQBackend.html)\n",
    "- [IBMQ.status()]( https://qiskit.org/documentation/stubs/qiskit.providers.ibmq.IBMQBackend.status.html)"
   ]
  }
 ],
 "metadata": {
  "kernelspec": {
   "display_name": "Python 3",
   "language": "python",
   "name": "python3"
  },
  "language_info": {
   "codemirror_mode": {
    "name": "ipython",
    "version": 3
   },
   "file_extension": ".py",
   "mimetype": "text/x-python",
   "name": "python",
   "nbconvert_exporter": "python",
   "pygments_lexer": "ipython3",
   "version": "3.10.11"
  },
  "orig_nbformat": 4
 },
 "nbformat": 4,
 "nbformat_minor": 2
}
